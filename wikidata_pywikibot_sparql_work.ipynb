{
 "cells": [
  {
   "cell_type": "markdown",
   "metadata": {},
   "source": [
    "# Working with pywikibot, Wikidata API, and SPARQL\n",
    "\n",
    "In my reconciliation work, my task is usually to take a string, throw that against an API to search, and evaluate the responses to make the linkage between that string to a URI. This is what's meant by the saying \"from strings to things.\"  \n",
    "\n",
    "A specific use case I've encountered will require a different approach. The use case is: I have already reconciled some strings to [VIAF](https://viaf.org/). I then have a list of VIAF IDs. Wikidata is known to have VIAF IDs within its entities. So how can I reconcile the VIAF IDs to Wikidata? \n",
    "\n",
    "There's relatively simple ways to do this assuming I have one VIAF ID. But what if I have thousands? \n",
    "\n",
    "This notebook will first explore the `pywikibot` python program to explore the Wikidata API and see how the data is structured and modeled. We'll then see if we can tackle our problem using SPARQL. "
   ]
  },
  {
   "cell_type": "markdown",
   "metadata": {},
   "source": [
    "## Setup and Working through the pywikibot tutorial \n",
    "\n",
    "Of course we should always start by reading the manual, and helpfully Wikidata has its own [\"data harvest\" tutorial](https://www.wikidata.org/wiki/Wikidata:Pywikibot_-_Python_3_Tutorial/Data_Harvest) for `pywikibot`. The following section will outline how to explore an item/\"page\". While this isn't our exact use case, we can start to understand what \"claims\" are. Claims are important because VIAF IDs, which is what we are after, have a specific claim/property: [P214](https://www.wikidata.org/wiki/Property:P214)"
   ]
  },
  {
   "cell_type": "code",
   "execution_count": 1,
   "metadata": {
    "collapsed": false
   },
   "outputs": [],
   "source": [
    "import pywikibot"
   ]
  },
  {
   "cell_type": "code",
   "execution_count": 2,
   "metadata": {
    "collapsed": true
   },
   "outputs": [],
   "source": [
    "site = pywikibot.Site(\"wikidata\", \"wikidata\")\n",
    "repo = site.data_repository()\n",
    "item = pywikibot.ItemPage(repo, \"Q76\")"
   ]
  },
  {
   "cell_type": "code",
   "execution_count": 3,
   "metadata": {
    "collapsed": false
   },
   "outputs": [],
   "source": [
    "item_dict = item.get()\n",
    "clm_dict = item_dict[\"claims\"]\n",
    "clm_list = clm_dict[\"P214\"]"
   ]
  },
  {
   "cell_type": "markdown",
   "metadata": {},
   "source": [
    "At this point we could just print the claim value to get a FAST ID. But first we should explore the structure of this specific claim in case we'll need that info later"
   ]
  },
  {
   "cell_type": "code",
   "execution_count": 4,
   "metadata": {
    "collapsed": false
   },
   "outputs": [
    {
     "name": "stdout",
     "output_type": "stream",
     "text": [
      "{'rank': 'preferred', 'id': 'q76$9AF526A1-C489-4E26-93E0-B831DE7EC2AD', 'mainsnak': {'snaktype': 'value', 'datatype': 'external-id', 'datavalue': {'value': '52010985', 'type': 'string'}, 'property': 'P214'}, 'references': [{'snaks': {'P143': [{'snaktype': 'value', 'datatype': 'wikibase-item', 'datavalue': {'value': {'entity-type': 'item', 'numeric-id': 8447}, 'type': 'wikibase-entityid'}, 'property': 'P143'}]}, 'hash': 'd4bd87b862b12d99d26e86472d44f26858dee639', 'snaks-order': ['P143']}], 'type': 'statement'}\n"
     ]
    }
   ],
   "source": [
    "for clm in clm_list:\n",
    "    print(clm.toJSON())"
   ]
  },
  {
   "cell_type": "markdown",
   "metadata": {},
   "source": [
    "Now we can just print the VIAF ID for Obama:"
   ]
  },
  {
   "cell_type": "code",
   "execution_count": 5,
   "metadata": {
    "collapsed": false
   },
   "outputs": [
    {
     "name": "stdout",
     "output_type": "stream",
     "text": [
      "52010985\n"
     ]
    }
   ],
   "source": [
    "for clm in clm_list:\n",
    "    clm_trgt = clm.getTarget()\n",
    "    print(clm_trgt)"
   ]
  },
  {
   "cell_type": "markdown",
   "metadata": {},
   "source": [
    "And it checks out. The [Wikidata page](https://www.wikidata.org/wiki/Q76) confirms this is the correct VIAF ID. We're starting to see what we might need for our use case. "
   ]
  },
  {
   "cell_type": "markdown",
   "metadata": {},
   "source": [
    "## Making a SPARQL query with a VIAF ID\n",
    "\n",
    "Can we come at this in the opposite way? That is, can we take a VIAF ID and query wikidata via SPARQL? It's actually pretty simple, which should make sense given how SPARQL can handle relation-specific queries (just like SQL).\n",
    "\n",
    "From the [Wikidata Query Service](https://query.wikidata.org/), we can run the following query:\n",
    "```\n",
    "PREFIX wikibase: <http://wikiba.se/ontology#>\n",
    "PREFIX wd: <http://www.wikidata.org/entity/> \n",
    "PREFIX wdt: <http://www.wikidata.org/prop/direct/>\n",
    "PREFIX rdfs: <http://www.w3.org/2000/01/rdf-schema#>\n",
    "\n",
    "SELECT ?person ?personLabel WHERE {\n",
    "  ?person wdt:P214 \"52010985\"   \n",
    "  SERVICE wikibase:label {\n",
    "    bd:serviceParam wikibase:language \"en\" .\n",
    "  }\n",
    "}\n",
    "```\n",
    "\n",
    "The [result](http://tinyurl.com/llsqors) brings back the correct \"Q\" wikidata item/page from above, Q76, with the correct label."
   ]
  },
  {
   "cell_type": "markdown",
   "metadata": {},
   "source": [
    "We did this using Wikidata's own GUI interface. It's convenient, has autocomplete for its entities and properties, and infers all kinds of things as you type out the query. But we need to figure out how to do this programmatically via python. Let's run the same query using the python library [SPARQLWrapper](https://rdflib.github.io/sparqlwrapper/). Note: It's also perfectly fine to use other libraries, including just treating the query as a large string"
   ]
  },
  {
   "cell_type": "code",
   "execution_count": 4,
   "metadata": {
    "collapsed": true
   },
   "outputs": [],
   "source": [
    "import SPARQLWrapper\n",
    "from SPARQLWrapper import SPARQLWrapper, JSON"
   ]
  },
  {
   "cell_type": "code",
   "execution_count": 5,
   "metadata": {
    "collapsed": false
   },
   "outputs": [
    {
     "name": "stdout",
     "output_type": "stream",
     "text": [
      "Barack Obama\n",
      "http://www.wikidata.org/entity/Q76\n"
     ]
    }
   ],
   "source": [
    "sparql = SPARQLWrapper(\"https://query.wikidata.org/sparql\")\n",
    "sparql.setQuery(\"\"\"    \n",
    "    SELECT ?person ?personLabel\n",
    "    WHERE {\n",
    "  ?person wdt:P214 \"52010985\"   \n",
    "  SERVICE wikibase:label {\n",
    "    bd:serviceParam wikibase:language \"en\"\n",
    "  }\n",
    "}\n",
    "\"\"\")\n",
    "sparql.setReturnFormat(JSON)\n",
    "results = sparql.query().convert()\n",
    "\n",
    "for result in results[\"results\"][\"bindings\"]:\n",
    "    print(result[\"personLabel\"][\"value\"])\n",
    "    print(result[\"person\"][\"value\"])"
   ]
  },
  {
   "cell_type": "markdown",
   "metadata": {},
   "source": [
    "This is what we're looking for. We get the label, and the exact URI for Q76 in Wikidata.  \n",
    "\n",
    "## Iterating a SPARQL query, using a list of values \n",
    "\n",
    "We're getting close to solving our original problem. We have successfully queried Wikidata with a VIAF ID and have found the Wikidata URI it matches. But this is so far a one-by-one operation. We need to be able to run this same query, except we want to substitute in all of our VIAF IDs each time, potentially thousands. Knowing the basics of python, you could probably guess we need a `for` loop. And it would make sense to make our list of VIAF IDs into a list that we can then loop over.  \n",
    "\n",
    "Note: I've included the query `print` so that it's easier to troubleshoot. "
   ]
  },
  {
   "cell_type": "code",
   "execution_count": 6,
   "metadata": {
    "collapsed": false
   },
   "outputs": [
    {
     "name": "stdout",
     "output_type": "stream",
     "text": [
      "SELECT ?person ?personLabel WHERE { ?person wdt:P214 \"52010985\" SERVICE wikibase:label { bd:serviceParam wikibase:language \"en\" }}\n",
      "Barack Obama\n",
      "http://www.wikidata.org/entity/Q76\n",
      "\n",
      "SELECT ?person ?personLabel WHERE { ?person wdt:P214 \"34562701\" SERVICE wikibase:label { bd:serviceParam wikibase:language \"en\" }}\n",
      "Herbert York\n",
      "http://www.wikidata.org/entity/Q1609351\n",
      "\n",
      "SELECT ?person ?personLabel WHERE { ?person wdt:P214 \"108815043\" SERVICE wikibase:label { bd:serviceParam wikibase:language \"en\" }}\n",
      "No match\n",
      "\n",
      "SELECT ?person ?personLabel WHERE { ?person wdt:P214 \"76323201\" SERVICE wikibase:label { bd:serviceParam wikibase:language \"en\" }}\n",
      "Avrum Stroll\n",
      "http://www.wikidata.org/entity/Q4829518\n",
      "\n",
      "SELECT ?person ?personLabel WHERE { ?person wdt:P214 \"2487523\" SERVICE wikibase:label { bd:serviceParam wikibase:language \"en\" }}\n",
      "No match\n",
      "\n",
      "SELECT ?person ?personLabel WHERE { ?person wdt:P214 \"55588240\" SERVICE wikibase:label { bd:serviceParam wikibase:language \"en\" }}\n",
      "Roger Revelle\n",
      "http://www.wikidata.org/entity/Q942808\n",
      "\n"
     ]
    }
   ],
   "source": [
    "import ujson\n",
    "\n",
    "sparql = SPARQLWrapper(\"https://query.wikidata.org/sparql\")\n",
    "viaf_id = [\"52010985\", \"34562701\", \"108815043\", \"76323201\", \"2487523\", \"55588240\"]\n",
    "\n",
    "\n",
    "for f in viaf_id:\n",
    "    queryString = 'SELECT ?person ?personLabel WHERE { ?person wdt:P214 \"' + f + '\" SERVICE wikibase:label { bd:serviceParam wikibase:language \"en\" }}'\n",
    "    sparql.setQuery(queryString)\n",
    "    sparql.setReturnFormat(JSON)\n",
    "    result1 = sparql.query().convert()\n",
    "    print(queryString)\n",
    "    if (len(result1[\"results\"][\"bindings\"])) == 0:\n",
    "        print(\"No match\" + '\\n')\n",
    "    for result in result1[\"results\"][\"bindings\"]:\n",
    "        print(result[\"personLabel\"][\"value\"])\n",
    "        print(result[\"person\"][\"value\"] + '\\n')\n",
    "                "
   ]
  },
  {
   "cell_type": "markdown",
   "metadata": {},
   "source": [
    "This looks fine, but notice how newlines (`\\n`) had to be hand entered to make the output legible? This would make it hard to work with if you had hundreds of things to reconcile. So let's make this into a data frame with `pandas`. "
   ]
  },
  {
   "cell_type": "code",
   "execution_count": 7,
   "metadata": {
    "collapsed": false
   },
   "outputs": [
    {
     "data": {
      "text/html": [
       "<div>\n",
       "<table border=\"1\" class=\"dataframe\">\n",
       "  <thead>\n",
       "    <tr style=\"text-align: right;\">\n",
       "      <th></th>\n",
       "      <th>Wikidata_URI</th>\n",
       "      <th>name</th>\n",
       "    </tr>\n",
       "  </thead>\n",
       "  <tbody>\n",
       "    <tr>\n",
       "      <th>0</th>\n",
       "      <td>http://www.wikidata.org/entity/Q76</td>\n",
       "      <td>Barack Obama</td>\n",
       "    </tr>\n",
       "    <tr>\n",
       "      <th>1</th>\n",
       "      <td>http://www.wikidata.org/entity/Q1609351</td>\n",
       "      <td>Herbert York</td>\n",
       "    </tr>\n",
       "    <tr>\n",
       "      <th>2</th>\n",
       "      <td>http://www.wikidata.org/entity/Q4829518</td>\n",
       "      <td>Avrum Stroll</td>\n",
       "    </tr>\n",
       "    <tr>\n",
       "      <th>3</th>\n",
       "      <td>http://www.wikidata.org/entity/Q942808</td>\n",
       "      <td>Roger Revelle</td>\n",
       "    </tr>\n",
       "  </tbody>\n",
       "</table>\n",
       "</div>"
      ],
      "text/plain": [
       "                              Wikidata_URI           name\n",
       "0       http://www.wikidata.org/entity/Q76   Barack Obama\n",
       "1  http://www.wikidata.org/entity/Q1609351   Herbert York\n",
       "2  http://www.wikidata.org/entity/Q4829518   Avrum Stroll\n",
       "3   http://www.wikidata.org/entity/Q942808  Roger Revelle"
      ]
     },
     "execution_count": 7,
     "metadata": {},
     "output_type": "execute_result"
    }
   ],
   "source": [
    "import pandas as pd\n",
    "\n",
    "importantPeople = []\n",
    "for f in viaf_id:\n",
    "    queryString = 'SELECT ?person ?personLabel WHERE { ?person wdt:P214 \"' + f + '\" SERVICE wikibase:label { bd:serviceParam wikibase:language \"en\" }}'\n",
    "    sparql.setQuery(queryString)\n",
    "    sparql.setReturnFormat(JSON)\n",
    "    result1 = sparql.query().convert()\n",
    "    for result in result1[\"results\"][\"bindings\"]:\n",
    "        importantPeople.append({\n",
    "                'Wikidata_URI': result[\"person\"][\"value\"],            \n",
    "                'name': result[\"personLabel\"][\"value\"]\n",
    "            })\n",
    "df = pd.DataFrame(importantPeople)\n",
    "df.head()"
   ]
  },
  {
   "cell_type": "code",
   "execution_count": 37,
   "metadata": {
    "collapsed": false
   },
   "outputs": [
    {
     "name": "stdout",
     "output_type": "stream",
     "text": [
      "['52010985', '34562701', '108815043', '76323201', '2487523', '55588240']\n"
     ]
    }
   ],
   "source": [
    "print(viaf_id)"
   ]
  },
  {
   "cell_type": "code",
   "execution_count": 38,
   "metadata": {
    "collapsed": false
   },
   "outputs": [
    {
     "data": {
      "text/html": [
       "<div>\n",
       "<table border=\"1\" class=\"dataframe\">\n",
       "  <thead>\n",
       "    <tr style=\"text-align: right;\">\n",
       "      <th></th>\n",
       "      <th>Wikidata_URI</th>\n",
       "      <th>name</th>\n",
       "      <th>wikipedia_URL</th>\n",
       "    </tr>\n",
       "  </thead>\n",
       "  <tbody>\n",
       "    <tr>\n",
       "      <th>0</th>\n",
       "      <td>http://www.wikidata.org/entity/Q76</td>\n",
       "      <td>Barack Obama</td>\n",
       "      <td>https://en.wikipedia.org/wiki/Barack_Obama</td>\n",
       "    </tr>\n",
       "    <tr>\n",
       "      <th>1</th>\n",
       "      <td>http://www.wikidata.org/entity/Q1609351</td>\n",
       "      <td>Herbert York</td>\n",
       "      <td>https://en.wikipedia.org/wiki/Herbert_York</td>\n",
       "    </tr>\n",
       "    <tr>\n",
       "      <th>2</th>\n",
       "      <td>http://www.wikidata.org/entity/Q4829518</td>\n",
       "      <td>Avrum Stroll</td>\n",
       "      <td>https://en.wikipedia.org/wiki/Avrum_Stroll</td>\n",
       "    </tr>\n",
       "    <tr>\n",
       "      <th>3</th>\n",
       "      <td>http://www.wikidata.org/entity/Q942808</td>\n",
       "      <td>Roger Revelle</td>\n",
       "      <td>https://en.wikipedia.org/wiki/Roger_Revelle</td>\n",
       "    </tr>\n",
       "  </tbody>\n",
       "</table>\n",
       "</div>"
      ],
      "text/plain": [
       "                              Wikidata_URI           name  \\\n",
       "0       http://www.wikidata.org/entity/Q76   Barack Obama   \n",
       "1  http://www.wikidata.org/entity/Q1609351   Herbert York   \n",
       "2  http://www.wikidata.org/entity/Q4829518   Avrum Stroll   \n",
       "3   http://www.wikidata.org/entity/Q942808  Roger Revelle   \n",
       "\n",
       "                                 wikipedia_URL  \n",
       "0   https://en.wikipedia.org/wiki/Barack_Obama  \n",
       "1   https://en.wikipedia.org/wiki/Herbert_York  \n",
       "2   https://en.wikipedia.org/wiki/Avrum_Stroll  \n",
       "3  https://en.wikipedia.org/wiki/Roger_Revelle  "
      ]
     },
     "execution_count": 38,
     "metadata": {},
     "output_type": "execute_result"
    }
   ],
   "source": [
    "import pandas as pd\n",
    "\n",
    "importantPeople = []\n",
    "for f in viaf_id:\n",
    "    queryString = 'SELECT ?person ?personLabel ?wparticle WHERE \\\n",
    "    { ?person wdt:P214 \"' + f + '\" SERVICE wikibase:label { bd:serviceParam wikibase:language \"en\" }\\\n",
    "    OPTIONAL { ?wparticle schema:about ?person . ?wparticle schema:inLanguage \"en\" . FILTER (SUBSTR(str(?wparticle), 1, 25) = \"https://en.wikipedia.org/\") }}'\n",
    "    sparql.setQuery(queryString)\n",
    "    sparql.setReturnFormat(JSON)\n",
    "    result1 = sparql.query().convert()\n",
    "    for result in result1[\"results\"][\"bindings\"]:\n",
    "        importantPeople.append({\n",
    "                'Wikidata_URI': result[\"person\"][\"value\"],            \n",
    "                'name': result[\"personLabel\"][\"value\"],\n",
    "                'wikipedia_URL': result[\"wparticle\"][\"value\"]\n",
    "            })\n",
    "df = pd.DataFrame(importantPeople)\n",
    "df.head()"
   ]
  },
  {
   "cell_type": "markdown",
   "metadata": {
    "collapsed": false
   },
   "source": [
    "So now, we've successfully fed a list of IDs to our SPARQL query to get back the Wikidata URI, the person's name, and the Wikipedia URL. "
   ]
  },
  {
   "cell_type": "markdown",
   "metadata": {},
   "source": [
    "## Iterating over a file \n",
    "\n",
    "Now instead of a static list of VIAF IDs, let's introduce a more realistic scenario: I have a delimited file (csv,Excel, etc.) with a column of hundreds or even thousands of VIAF IDs. Some VIAD ID cells will be blank (in `pandas` by default, this is recorded as 'NaN'). One way we could do this is to just treat this new file as a dataframe"
   ]
  },
  {
   "cell_type": "code",
   "execution_count": 20,
   "metadata": {
    "collapsed": false
   },
   "outputs": [
    {
     "data": {
      "text/html": [
       "<div>\n",
       "<table border=\"1\" class=\"dataframe\">\n",
       "  <thead>\n",
       "    <tr style=\"text-align: right;\">\n",
       "      <th></th>\n",
       "      <th>AuthoritativeLabel</th>\n",
       "      <th>VIAF_ID</th>\n",
       "      <th>VIAF_URIs</th>\n",
       "      <th>Wikidata_IDs</th>\n",
       "    </tr>\n",
       "  </thead>\n",
       "  <tbody>\n",
       "    <tr>\n",
       "      <th>0</th>\n",
       "      <td>UC Regents</td>\n",
       "      <td>NaN</td>\n",
       "      <td>NaN</td>\n",
       "      <td>NaN</td>\n",
       "    </tr>\n",
       "    <tr>\n",
       "      <th>1</th>\n",
       "      <td>Herbert F. York</td>\n",
       "      <td>34562701</td>\n",
       "      <td>https://viaf.org/viaf/34562701</td>\n",
       "      <td>[\"Q1609351\"]</td>\n",
       "    </tr>\n",
       "    <tr>\n",
       "      <th>2</th>\n",
       "      <td>Andrew H. Wright</td>\n",
       "      <td>108815043</td>\n",
       "      <td>https://viaf.org/viaf/108815043</td>\n",
       "      <td>NaN</td>\n",
       "    </tr>\n",
       "    <tr>\n",
       "      <th>3</th>\n",
       "      <td>Stanley Chodorow</td>\n",
       "      <td>2487523</td>\n",
       "      <td>https://viaf.org/viaf/2487523</td>\n",
       "      <td>NaN</td>\n",
       "    </tr>\n",
       "    <tr>\n",
       "      <th>4</th>\n",
       "      <td>Melvin J. Voight</td>\n",
       "      <td>NaN</td>\n",
       "      <td>NaN</td>\n",
       "      <td>NaN</td>\n",
       "    </tr>\n",
       "    <tr>\n",
       "      <th>5</th>\n",
       "      <td>World Series (Baseball)</td>\n",
       "      <td>135197943</td>\n",
       "      <td>https://viaf.org/viaf/135197943</td>\n",
       "      <td>NaN</td>\n",
       "    </tr>\n",
       "    <tr>\n",
       "      <th>6</th>\n",
       "      <td>Hans Seuss</td>\n",
       "      <td>NaN</td>\n",
       "      <td>NaN</td>\n",
       "      <td>NaN</td>\n",
       "    </tr>\n",
       "    <tr>\n",
       "      <th>7</th>\n",
       "      <td>Karen Fleckenstein</td>\n",
       "      <td>NaN</td>\n",
       "      <td>NaN</td>\n",
       "      <td>NaN</td>\n",
       "    </tr>\n",
       "    <tr>\n",
       "      <th>8</th>\n",
       "      <td>Leonard Newmark</td>\n",
       "      <td>92278621</td>\n",
       "      <td>https://viaf.org/viaf/92278621</td>\n",
       "      <td>NaN</td>\n",
       "    </tr>\n",
       "  </tbody>\n",
       "</table>\n",
       "</div>"
      ],
      "text/plain": [
       "        AuthoritativeLabel    VIAF_ID                        VIAF_URIs  \\\n",
       "0               UC Regents        NaN                              NaN   \n",
       "1          Herbert F. York   34562701   https://viaf.org/viaf/34562701   \n",
       "2         Andrew H. Wright  108815043  https://viaf.org/viaf/108815043   \n",
       "3         Stanley Chodorow    2487523    https://viaf.org/viaf/2487523   \n",
       "4         Melvin J. Voight        NaN                              NaN   \n",
       "5  World Series (Baseball)  135197943  https://viaf.org/viaf/135197943   \n",
       "6               Hans Seuss        NaN                              NaN   \n",
       "7       Karen Fleckenstein        NaN                              NaN   \n",
       "8          Leonard Newmark   92278621   https://viaf.org/viaf/92278621   \n",
       "\n",
       "   Wikidata_IDs  \n",
       "0           NaN  \n",
       "1  [\"Q1609351\"]  \n",
       "2           NaN  \n",
       "3           NaN  \n",
       "4           NaN  \n",
       "5           NaN  \n",
       "6           NaN  \n",
       "7           NaN  \n",
       "8           NaN  "
      ]
     },
     "execution_count": 20,
     "metadata": {},
     "output_type": "execute_result"
    }
   ],
   "source": [
    "viaf_data = 'name_viaf-refine_test.csv'\n",
    "df1 = pd.read_csv(viaf_data)\n",
    "\n",
    "df1[0:9]"
   ]
  },
  {
   "cell_type": "markdown",
   "metadata": {},
   "source": [
    "Now, our IDs are in a specific column, \"VIAF_ID\". We can turn that column into a list, and ensure that they are recorded as strings (`str`)"
   ]
  },
  {
   "cell_type": "code",
   "execution_count": 34,
   "metadata": {
    "collapsed": false
   },
   "outputs": [
    {
     "name": "stdout",
     "output_type": "stream",
     "text": [
      "['nan', '34562701', '108815043', '2487523', 'nan', '135197943', 'nan', 'nan', '92278621', '76323201', 'nan', '255131945', '27196759', 'nan', '109530985', 'nan', '19741752', '245102411', '108378457', '46822320', '235002633', '56672226', '79069733', '44392158', '65331054', '54248007', '45569200', 'nan', 'nan', '306193935', '108307703', '94796277', '217920960', '46792221', 'nan', '55588240', '170016300', '72308491', 'nan', '27377965', '24685271', '165136992', '117991221', '11963854', '167627219', 'nan', '65508148', '21443041', 'nan', 'nan', 'nan', '7435849', '33442970', 'nan', 'nan', '69008505', '94432205', 'nan', '229484529', '34777159', '21106583', '192987647', '94924486', 'nan', '19755215', '234553964', '43586494', '32074777', '119197886', '111308881', '120471026', '26073878', 'nan', '111883', '47485057', '4075624', '11446679', '8990643', 'nan', '229956275', 'nan', '109270251', '101088057', '54237564', '56504103', '51035951', '56709009', '50746062', '161945656', '1384145857091522921764', '299239150', '11336329', '75175060', '109428610', 'nan', '305210496', '17318209', '46228725', '135197943', '100627125', '22324809', '158489853', '129095018', '138700447', '267346615', '154835324', 'nan', '142252642', 'nan', '264574527', 'nan', 'nan', '154909592', '157080647', 'nan', '125503694', 'nan']\n"
     ]
    }
   ],
   "source": [
    "viaf_ids = df1['VIAF_ID'].astype(str).values.tolist()\n",
    "print(viaf_ids)"
   ]
  },
  {
   "cell_type": "markdown",
   "metadata": {},
   "source": [
    "Now, our process is exactly as it was above when using a static list, since that's exactly what we just created. However, we will need to account for cases where null values or cases where not all results could be brought back. Otherwise, we will raise exceptions and errors, causing the whole thing to fail. Thus, we'll add some exception handling in our loop that will pass when encountering an exception, and keep going"
   ]
  },
  {
   "cell_type": "code",
   "execution_count": 44,
   "metadata": {
    "collapsed": false
   },
   "outputs": [],
   "source": [
    "importantPeople = []\n",
    "for f in viaf_ids:\n",
    "    queryString = 'SELECT ?person ?personLabel ?wparticle WHERE \\\n",
    "    { ?person wdt:P214 \"' + f + '\" SERVICE wikibase:label { bd:serviceParam wikibase:language \"en\" }\\\n",
    "    OPTIONAL { ?wparticle schema:about ?person . ?wparticle schema:inLanguage \"en\" . FILTER (SUBSTR(str(?wparticle), 1, 25) = \"https://en.wikipedia.org/\") }}'\n",
    "    sparql.setQuery(queryString)\n",
    "    sparql.setReturnFormat(JSON)\n",
    "    result1 = sparql.query().convert()\n",
    "    for result in result1[\"results\"][\"bindings\"]:\n",
    "        try:\n",
    "            importantPeople.append({\n",
    "                'Wikidata_URI': result[\"person\"][\"value\"],            \n",
    "                'name': result[\"personLabel\"][\"value\"],\n",
    "                'wikipedia_URL': result[\"wparticle\"][\"value\"]\n",
    "            })\n",
    "        except KeyError:\n",
    "            pass\n",
    "        \n",
    "df = pd.DataFrame(importantPeople)"
   ]
  },
  {
   "cell_type": "markdown",
   "metadata": {},
   "source": [
    "Now we'll look at a sample of the values to confirm everything looks good"
   ]
  },
  {
   "cell_type": "code",
   "execution_count": 47,
   "metadata": {
    "collapsed": false
   },
   "outputs": [
    {
     "data": {
      "text/html": [
       "<div>\n",
       "<table border=\"1\" class=\"dataframe\">\n",
       "  <thead>\n",
       "    <tr style=\"text-align: right;\">\n",
       "      <th></th>\n",
       "      <th>Wikidata_URI</th>\n",
       "      <th>name</th>\n",
       "      <th>wikipedia_URL</th>\n",
       "    </tr>\n",
       "  </thead>\n",
       "  <tbody>\n",
       "    <tr>\n",
       "      <th>0</th>\n",
       "      <td>http://www.wikidata.org/entity/Q1609351</td>\n",
       "      <td>Herbert York</td>\n",
       "      <td>https://en.wikipedia.org/wiki/Herbert_York</td>\n",
       "    </tr>\n",
       "    <tr>\n",
       "      <th>1</th>\n",
       "      <td>http://www.wikidata.org/entity/Q4829518</td>\n",
       "      <td>Avrum Stroll</td>\n",
       "      <td>https://en.wikipedia.org/wiki/Avrum_Stroll</td>\n",
       "    </tr>\n",
       "    <tr>\n",
       "      <th>2</th>\n",
       "      <td>http://www.wikidata.org/entity/Q15983297</td>\n",
       "      <td>Devendra Lal</td>\n",
       "      <td>https://en.wikipedia.org/wiki/Devendra_Lal</td>\n",
       "    </tr>\n",
       "    <tr>\n",
       "      <th>3</th>\n",
       "      <td>http://www.wikidata.org/entity/Q6939436</td>\n",
       "      <td>Murray Rosenblatt</td>\n",
       "      <td>https://en.wikipedia.org/wiki/Murray_Rosenblatt</td>\n",
       "    </tr>\n",
       "    <tr>\n",
       "      <th>4</th>\n",
       "      <td>http://www.wikidata.org/entity/Q5542101</td>\n",
       "      <td>George Mandler</td>\n",
       "      <td>https://en.wikipedia.org/wiki/George_Mandler</td>\n",
       "    </tr>\n",
       "    <tr>\n",
       "      <th>5</th>\n",
       "      <td>http://www.wikidata.org/entity/Q3751007</td>\n",
       "      <td>Gabriel Jackson</td>\n",
       "      <td>https://en.wikipedia.org/wiki/Gabriel_Jackson_...</td>\n",
       "    </tr>\n",
       "    <tr>\n",
       "      <th>6</th>\n",
       "      <td>http://www.wikidata.org/entity/Q302889</td>\n",
       "      <td>Aaron Cicourel</td>\n",
       "      <td>https://en.wikipedia.org/wiki/Aaron_Cicourel</td>\n",
       "    </tr>\n",
       "    <tr>\n",
       "      <th>7</th>\n",
       "      <td>http://www.wikidata.org/entity/Q2911303</td>\n",
       "      <td>Clark Kerr</td>\n",
       "      <td>https://en.wikipedia.org/wiki/Clark_Kerr</td>\n",
       "    </tr>\n",
       "    <tr>\n",
       "      <th>8</th>\n",
       "      <td>http://www.wikidata.org/entity/Q6500577</td>\n",
       "      <td>Laurence E. Peterson</td>\n",
       "      <td>https://en.wikipedia.org/wiki/Laurence_E._Pete...</td>\n",
       "    </tr>\n",
       "    <tr>\n",
       "      <th>9</th>\n",
       "      <td>http://www.wikidata.org/entity/Q186042</td>\n",
       "      <td>John Kenneth Galbraith</td>\n",
       "      <td>https://en.wikipedia.org/wiki/John_Kenneth_Gal...</td>\n",
       "    </tr>\n",
       "    <tr>\n",
       "      <th>10</th>\n",
       "      <td>http://www.wikidata.org/entity/Q7153417</td>\n",
       "      <td>Paul Saltman</td>\n",
       "      <td>https://en.wikipedia.org/wiki/Paul_Saltman</td>\n",
       "    </tr>\n",
       "    <tr>\n",
       "      <th>11</th>\n",
       "      <td>http://www.wikidata.org/entity/Q942808</td>\n",
       "      <td>Roger Revelle</td>\n",
       "      <td>https://en.wikipedia.org/wiki/Roger_Revelle</td>\n",
       "    </tr>\n",
       "    <tr>\n",
       "      <th>12</th>\n",
       "      <td>http://www.wikidata.org/entity/Q7143247</td>\n",
       "      <td>Pat Brown</td>\n",
       "      <td>https://en.wikipedia.org/wiki/Pat_Brown_(crimi...</td>\n",
       "    </tr>\n",
       "    <tr>\n",
       "      <th>13</th>\n",
       "      <td>http://www.wikidata.org/entity/Q15918765</td>\n",
       "      <td>Stanford Solomon Penner</td>\n",
       "      <td>https://en.wikipedia.org/wiki/Stanford_S._Penner</td>\n",
       "    </tr>\n",
       "    <tr>\n",
       "      <th>14</th>\n",
       "      <td>http://www.wikidata.org/entity/Q436119</td>\n",
       "      <td>Melford Spiro</td>\n",
       "      <td>https://en.wikipedia.org/wiki/Melford_Spiro</td>\n",
       "    </tr>\n",
       "    <tr>\n",
       "      <th>15</th>\n",
       "      <td>http://www.wikidata.org/entity/Q1481981</td>\n",
       "      <td>Keith Brueckner</td>\n",
       "      <td>https://en.wikipedia.org/wiki/Keith_Brueckner</td>\n",
       "    </tr>\n",
       "    <tr>\n",
       "      <th>16</th>\n",
       "      <td>http://www.wikidata.org/entity/Q1393453</td>\n",
       "      <td>John Stewart</td>\n",
       "      <td>https://en.wikipedia.org/wiki/John_Stewart_(mu...</td>\n",
       "    </tr>\n",
       "    <tr>\n",
       "      <th>17</th>\n",
       "      <td>http://www.wikidata.org/entity/Q217717</td>\n",
       "      <td>American Museum of Natural History</td>\n",
       "      <td>https://en.wikipedia.org/wiki/American_Museum_...</td>\n",
       "    </tr>\n",
       "    <tr>\n",
       "      <th>18</th>\n",
       "      <td>http://www.wikidata.org/entity/Q8010617</td>\n",
       "      <td>William H. Thomas</td>\n",
       "      <td>https://en.wikipedia.org/wiki/William_H._Thoma...</td>\n",
       "    </tr>\n",
       "    <tr>\n",
       "      <th>19</th>\n",
       "      <td>http://www.wikidata.org/entity/Q7287286</td>\n",
       "      <td>Ralph Bulmer</td>\n",
       "      <td>https://en.wikipedia.org/wiki/Ralph_Bulmer</td>\n",
       "    </tr>\n",
       "    <tr>\n",
       "      <th>20</th>\n",
       "      <td>http://www.wikidata.org/entity/Q7325632</td>\n",
       "      <td>Richard Feachem</td>\n",
       "      <td>https://en.wikipedia.org/wiki/Richard_Feachem</td>\n",
       "    </tr>\n",
       "    <tr>\n",
       "      <th>21</th>\n",
       "      <td>http://www.wikidata.org/entity/Q274020</td>\n",
       "      <td>Madeleine Leininger</td>\n",
       "      <td>https://en.wikipedia.org/wiki/Madeleine_Leininger</td>\n",
       "    </tr>\n",
       "    <tr>\n",
       "      <th>22</th>\n",
       "      <td>http://www.wikidata.org/entity/Q6224047</td>\n",
       "      <td>John Burton</td>\n",
       "      <td>https://en.wikipedia.org/wiki/John_Burton_(dip...</td>\n",
       "    </tr>\n",
       "    <tr>\n",
       "      <th>23</th>\n",
       "      <td>http://www.wikidata.org/entity/Q711425</td>\n",
       "      <td>Roy Rappaport</td>\n",
       "      <td>https://en.wikipedia.org/wiki/Roy_Rappaport</td>\n",
       "    </tr>\n",
       "    <tr>\n",
       "      <th>24</th>\n",
       "      <td>http://www.wikidata.org/entity/Q6252766</td>\n",
       "      <td>John Philip Newman</td>\n",
       "      <td>https://en.wikipedia.org/wiki/John_Philip_Newman</td>\n",
       "    </tr>\n",
       "    <tr>\n",
       "      <th>25</th>\n",
       "      <td>http://www.wikidata.org/entity/Q975593</td>\n",
       "      <td>Nimrod Expedition</td>\n",
       "      <td>https://en.wikipedia.org/wiki/Nimrod_Expedition</td>\n",
       "    </tr>\n",
       "    <tr>\n",
       "      <th>26</th>\n",
       "      <td>http://www.wikidata.org/entity/Q250578</td>\n",
       "      <td>Panama–Pacific International Exposition</td>\n",
       "      <td>https://en.wikipedia.org/wiki/Panama%E2%80%93P...</td>\n",
       "    </tr>\n",
       "  </tbody>\n",
       "</table>\n",
       "</div>"
      ],
      "text/plain": [
       "                                Wikidata_URI  \\\n",
       "0    http://www.wikidata.org/entity/Q1609351   \n",
       "1    http://www.wikidata.org/entity/Q4829518   \n",
       "2   http://www.wikidata.org/entity/Q15983297   \n",
       "3    http://www.wikidata.org/entity/Q6939436   \n",
       "4    http://www.wikidata.org/entity/Q5542101   \n",
       "5    http://www.wikidata.org/entity/Q3751007   \n",
       "6     http://www.wikidata.org/entity/Q302889   \n",
       "7    http://www.wikidata.org/entity/Q2911303   \n",
       "8    http://www.wikidata.org/entity/Q6500577   \n",
       "9     http://www.wikidata.org/entity/Q186042   \n",
       "10   http://www.wikidata.org/entity/Q7153417   \n",
       "11    http://www.wikidata.org/entity/Q942808   \n",
       "12   http://www.wikidata.org/entity/Q7143247   \n",
       "13  http://www.wikidata.org/entity/Q15918765   \n",
       "14    http://www.wikidata.org/entity/Q436119   \n",
       "15   http://www.wikidata.org/entity/Q1481981   \n",
       "16   http://www.wikidata.org/entity/Q1393453   \n",
       "17    http://www.wikidata.org/entity/Q217717   \n",
       "18   http://www.wikidata.org/entity/Q8010617   \n",
       "19   http://www.wikidata.org/entity/Q7287286   \n",
       "20   http://www.wikidata.org/entity/Q7325632   \n",
       "21    http://www.wikidata.org/entity/Q274020   \n",
       "22   http://www.wikidata.org/entity/Q6224047   \n",
       "23    http://www.wikidata.org/entity/Q711425   \n",
       "24   http://www.wikidata.org/entity/Q6252766   \n",
       "25    http://www.wikidata.org/entity/Q975593   \n",
       "26    http://www.wikidata.org/entity/Q250578   \n",
       "\n",
       "                                       name  \\\n",
       "0                              Herbert York   \n",
       "1                              Avrum Stroll   \n",
       "2                              Devendra Lal   \n",
       "3                         Murray Rosenblatt   \n",
       "4                            George Mandler   \n",
       "5                           Gabriel Jackson   \n",
       "6                            Aaron Cicourel   \n",
       "7                                Clark Kerr   \n",
       "8                      Laurence E. Peterson   \n",
       "9                    John Kenneth Galbraith   \n",
       "10                             Paul Saltman   \n",
       "11                            Roger Revelle   \n",
       "12                                Pat Brown   \n",
       "13                  Stanford Solomon Penner   \n",
       "14                            Melford Spiro   \n",
       "15                          Keith Brueckner   \n",
       "16                             John Stewart   \n",
       "17       American Museum of Natural History   \n",
       "18                        William H. Thomas   \n",
       "19                             Ralph Bulmer   \n",
       "20                          Richard Feachem   \n",
       "21                      Madeleine Leininger   \n",
       "22                              John Burton   \n",
       "23                            Roy Rappaport   \n",
       "24                       John Philip Newman   \n",
       "25                        Nimrod Expedition   \n",
       "26  Panama–Pacific International Exposition   \n",
       "\n",
       "                                        wikipedia_URL  \n",
       "0          https://en.wikipedia.org/wiki/Herbert_York  \n",
       "1          https://en.wikipedia.org/wiki/Avrum_Stroll  \n",
       "2          https://en.wikipedia.org/wiki/Devendra_Lal  \n",
       "3     https://en.wikipedia.org/wiki/Murray_Rosenblatt  \n",
       "4        https://en.wikipedia.org/wiki/George_Mandler  \n",
       "5   https://en.wikipedia.org/wiki/Gabriel_Jackson_...  \n",
       "6        https://en.wikipedia.org/wiki/Aaron_Cicourel  \n",
       "7            https://en.wikipedia.org/wiki/Clark_Kerr  \n",
       "8   https://en.wikipedia.org/wiki/Laurence_E._Pete...  \n",
       "9   https://en.wikipedia.org/wiki/John_Kenneth_Gal...  \n",
       "10         https://en.wikipedia.org/wiki/Paul_Saltman  \n",
       "11        https://en.wikipedia.org/wiki/Roger_Revelle  \n",
       "12  https://en.wikipedia.org/wiki/Pat_Brown_(crimi...  \n",
       "13   https://en.wikipedia.org/wiki/Stanford_S._Penner  \n",
       "14        https://en.wikipedia.org/wiki/Melford_Spiro  \n",
       "15      https://en.wikipedia.org/wiki/Keith_Brueckner  \n",
       "16  https://en.wikipedia.org/wiki/John_Stewart_(mu...  \n",
       "17  https://en.wikipedia.org/wiki/American_Museum_...  \n",
       "18  https://en.wikipedia.org/wiki/William_H._Thoma...  \n",
       "19         https://en.wikipedia.org/wiki/Ralph_Bulmer  \n",
       "20      https://en.wikipedia.org/wiki/Richard_Feachem  \n",
       "21  https://en.wikipedia.org/wiki/Madeleine_Leininger  \n",
       "22  https://en.wikipedia.org/wiki/John_Burton_(dip...  \n",
       "23        https://en.wikipedia.org/wiki/Roy_Rappaport  \n",
       "24   https://en.wikipedia.org/wiki/John_Philip_Newman  \n",
       "25    https://en.wikipedia.org/wiki/Nimrod_Expedition  \n",
       "26  https://en.wikipedia.org/wiki/Panama%E2%80%93P...  "
      ]
     },
     "execution_count": 47,
     "metadata": {},
     "output_type": "execute_result"
    }
   ],
   "source": [
    "df[0:30]"
   ]
  },
  {
   "cell_type": "code",
   "execution_count": 41,
   "metadata": {
    "collapsed": false
   },
   "outputs": [],
   "source": []
  }
 ],
 "metadata": {
  "anaconda-cloud": {},
  "kernelspec": {
   "display_name": "Python [Root]",
   "language": "python",
   "name": "Python [Root]"
  },
  "language_info": {
   "codemirror_mode": {
    "name": "ipython",
    "version": 3
   },
   "file_extension": ".py",
   "mimetype": "text/x-python",
   "name": "python",
   "nbconvert_exporter": "python",
   "pygments_lexer": "ipython3",
   "version": "3.5.2"
  }
 },
 "nbformat": 4,
 "nbformat_minor": 0
}
