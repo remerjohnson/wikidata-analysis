{
 "cells": [
  {
   "cell_type": "markdown",
   "metadata": {},
   "source": [
    "# Working with pywikibot, Wikidata API, and SPARQL\n",
    "\n",
    "In my reconciliation work, my task is usually to take a string, throw that against an API to search, and evaluate the responses to make the linkage between that string to a URI. This is what's meant by the saying \"from strings to things.\"  \n",
    "\n",
    "A specific use case I've encountered will require a different approach. The use case is: I have already reconciled some strings to [VIAF](https://viaf.org/). I then have a list of VIAF IDs. Wikidata is known to have VIAF IDs within its entities. So how can I reconcile the VIAF IDs to Wikidata? \n",
    "\n",
    "There's relatively simple ways to do this assuming I have one VIAF ID. But what if I have thousands? \n",
    "\n",
    "This notebook will first explore the `pywikibot` python program to explore the Wikidata API and see how the data is structured and modeled. We'll then see if we can tackle our problem using SPARQL. "
   ]
  },
  {
   "cell_type": "markdown",
   "metadata": {},
   "source": [
    "## Setup and Working through the pywikibot tutorial \n",
    "\n",
    "Of course we should always start by reading the manual, and helpfully Wikidata has its own [\"data harvest\" tutorial](https://www.wikidata.org/wiki/Wikidata:Pywikibot_-_Python_3_Tutorial/Data_Harvest) for `pywikibot`. The following section will outline how to explore an item/\"page\". While this isn't our exact use case, we can start to understand what \"claims\" are. Claims are important because VIAF IDs, which is what we are after, have a specific claim/property: [P214](https://www.wikidata.org/wiki/Property:P214)"
   ]
  },
  {
   "cell_type": "code",
   "execution_count": 1,
   "metadata": {
    "collapsed": false
   },
   "outputs": [],
   "source": [
    "import pywikibot"
   ]
  },
  {
   "cell_type": "code",
   "execution_count": 2,
   "metadata": {
    "collapsed": true
   },
   "outputs": [],
   "source": [
    "site = pywikibot.Site(\"wikidata\", \"wikidata\")\n",
    "repo = site.data_repository()\n",
    "item = pywikibot.ItemPage(repo, \"Q76\")"
   ]
  },
  {
   "cell_type": "code",
   "execution_count": 3,
   "metadata": {
    "collapsed": false
   },
   "outputs": [],
   "source": [
    "item_dict = item.get()\n",
    "clm_dict = item_dict[\"claims\"]\n",
    "clm_list = clm_dict[\"P214\"]"
   ]
  },
  {
   "cell_type": "markdown",
   "metadata": {},
   "source": [
    "At this point we could just print the claim value to get a FAST ID. But first we should explore the structure of this specific claim in case we'll need that info later"
   ]
  },
  {
   "cell_type": "code",
   "execution_count": 4,
   "metadata": {
    "collapsed": false
   },
   "outputs": [
    {
     "name": "stdout",
     "output_type": "stream",
     "text": [
      "{'rank': 'preferred', 'id': 'q76$9AF526A1-C489-4E26-93E0-B831DE7EC2AD', 'mainsnak': {'snaktype': 'value', 'datatype': 'external-id', 'datavalue': {'value': '52010985', 'type': 'string'}, 'property': 'P214'}, 'references': [{'snaks': {'P143': [{'snaktype': 'value', 'datatype': 'wikibase-item', 'datavalue': {'value': {'entity-type': 'item', 'numeric-id': 8447}, 'type': 'wikibase-entityid'}, 'property': 'P143'}]}, 'hash': 'd4bd87b862b12d99d26e86472d44f26858dee639', 'snaks-order': ['P143']}], 'type': 'statement'}\n"
     ]
    }
   ],
   "source": [
    "for clm in clm_list:\n",
    "    print(clm.toJSON())"
   ]
  },
  {
   "cell_type": "markdown",
   "metadata": {},
   "source": [
    "Now we can just print the VIAF ID for Obama:"
   ]
  },
  {
   "cell_type": "code",
   "execution_count": 5,
   "metadata": {
    "collapsed": false
   },
   "outputs": [
    {
     "name": "stdout",
     "output_type": "stream",
     "text": [
      "52010985\n"
     ]
    }
   ],
   "source": [
    "for clm in clm_list:\n",
    "    clm_trgt = clm.getTarget()\n",
    "    print(clm_trgt)"
   ]
  },
  {
   "cell_type": "markdown",
   "metadata": {},
   "source": [
    "And it checks out. The [Wikidata page](https://www.wikidata.org/wiki/Q76) confirms this is the correct VIAF ID. We're starting to see what we might need for our use case. "
   ]
  },
  {
   "cell_type": "markdown",
   "metadata": {},
   "source": [
    "## Making a SPARQL query with a VIAF ID\n",
    "\n",
    "Can we come at this in the opposite way? That is, can we take a VIAF ID and query wikidata via SPARQL? It's actually pretty simple, which should make sense given how SPARQL can handle relation-specific queries (just like SQL).\n",
    "\n",
    "From the [Wikidata Query Service](https://query.wikidata.org/), we can run the following query:\n",
    "```\n",
    "PREFIX wikibase: <http://wikiba.se/ontology#>\n",
    "PREFIX wd: <http://www.wikidata.org/entity/> \n",
    "PREFIX wdt: <http://www.wikidata.org/prop/direct/>\n",
    "PREFIX rdfs: <http://www.w3.org/2000/01/rdf-schema#>\n",
    "\n",
    "SELECT ?person ?personLabel WHERE {\n",
    "  ?person wdt:P214 \"52010985\"   \n",
    "  SERVICE wikibase:label {\n",
    "    bd:serviceParam wikibase:language \"en\" .\n",
    "  }\n",
    "}\n",
    "```\n",
    "\n",
    "The [result](http://tinyurl.com/llsqors) brings back the correct \"Q\" wikidata item/page from above, Q76, with the correct label."
   ]
  },
  {
   "cell_type": "markdown",
   "metadata": {},
   "source": [
    "We did this using Wikidata's own GUI interface. It's convenient, has autocomplete for its entities and properties, and infers all kinds of things as you type out the query. But we need to figure out how to do this programmatically via python. Let's run the same query using the python library [SPARQLWrapper](https://rdflib.github.io/sparqlwrapper/). Note: It's also perfectly fine to use other libraries, including just good old  "
   ]
  },
  {
   "cell_type": "code",
   "execution_count": 3,
   "metadata": {
    "collapsed": true
   },
   "outputs": [],
   "source": [
    "import SPARQLWrapper\n",
    "from SPARQLWrapper import SPARQLWrapper, JSON"
   ]
  },
  {
   "cell_type": "code",
   "execution_count": 33,
   "metadata": {
    "collapsed": false
   },
   "outputs": [
    {
     "name": "stdout",
     "output_type": "stream",
     "text": [
      "Barack Obama\n",
      "http://www.wikidata.org/entity/Q76\n"
     ]
    }
   ],
   "source": [
    "sparql = SPARQLWrapper(\"https://query.wikidata.org/sparql\")\n",
    "sparql.setQuery(\"\"\"    \n",
    "    SELECT ?person ?personLabel\n",
    "    WHERE {\n",
    "  ?person wdt:P214 \"52010985\"   \n",
    "  SERVICE wikibase:label {\n",
    "    bd:serviceParam wikibase:language \"en\"\n",
    "  }\n",
    "}\n",
    "\"\"\")\n",
    "sparql.setReturnFormat(JSON)\n",
    "results = sparql.query().convert()\n",
    "\n",
    "for result in results[\"results\"][\"bindings\"]:\n",
    "    print(result[\"personLabel\"][\"value\"])\n",
    "    print(result[\"person\"][\"value\"])"
   ]
  },
  {
   "cell_type": "markdown",
   "metadata": {},
   "source": [
    "This is what we're looking for. We get the label, and the exact URI for Q76 in Wikidata.  \n",
    "\n",
    "## Iterating a SPARQL query, using a list of values \n",
    "\n",
    "We're getting close to solving our original problem. We have successfully queried Wikidata with a VIAF ID and have found the Wikidata URI it matches. But this is so far a one-by-one operation. We need to be able to run this same query, except we want to substitute in all of our VIAF IDs each time, potentially thousands. Knowing the basics of python, you could probably guess we need a `for` loop. And it would make sense to make our list of VIAF IDs into a list that we can then loop over.  \n",
    "\n",
    "Note: I've included the query `print` so that it's easier to troubleshoot. "
   ]
  },
  {
   "cell_type": "code",
   "execution_count": 4,
   "metadata": {
    "collapsed": false
   },
   "outputs": [
    {
     "name": "stdout",
     "output_type": "stream",
     "text": [
      "SELECT ?person ?personLabel WHERE { ?person wdt:P214 \"52010985\" SERVICE wikibase:label { bd:serviceParam wikibase:language \"en\" }}\n",
      "Barack Obama\n",
      "http://www.wikidata.org/entity/Q76\n",
      "\n",
      "SELECT ?person ?personLabel WHERE { ?person wdt:P214 \"34562701\" SERVICE wikibase:label { bd:serviceParam wikibase:language \"en\" }}\n",
      "Herbert York\n",
      "http://www.wikidata.org/entity/Q1609351\n",
      "\n",
      "SELECT ?person ?personLabel WHERE { ?person wdt:P214 \"108815043\" SERVICE wikibase:label { bd:serviceParam wikibase:language \"en\" }}\n",
      "No match\n",
      "\n",
      "SELECT ?person ?personLabel WHERE { ?person wdt:P214 \"76323201\" SERVICE wikibase:label { bd:serviceParam wikibase:language \"en\" }}\n",
      "Avrum Stroll\n",
      "http://www.wikidata.org/entity/Q4829518\n",
      "\n",
      "SELECT ?person ?personLabel WHERE { ?person wdt:P214 \"2487523\" SERVICE wikibase:label { bd:serviceParam wikibase:language \"en\" }}\n",
      "No match\n",
      "\n",
      "SELECT ?person ?personLabel WHERE { ?person wdt:P214 \"55588240\" SERVICE wikibase:label { bd:serviceParam wikibase:language \"en\" }}\n",
      "Roger Revelle\n",
      "http://www.wikidata.org/entity/Q942808\n",
      "\n"
     ]
    }
   ],
   "source": [
    "import ujson\n",
    "\n",
    "sparql = SPARQLWrapper(\"https://query.wikidata.org/sparql\")\n",
    "viaf_id = [\"52010985\", \"34562701\", \"108815043\", \"76323201\", \"2487523\", \"55588240\"]\n",
    "\n",
    "\n",
    "for f in viaf_id:\n",
    "    queryString = 'SELECT ?person ?personLabel WHERE { ?person wdt:P214 \"' + f + '\" SERVICE wikibase:label { bd:serviceParam wikibase:language \"en\" }}'\n",
    "    sparql.setQuery(queryString)\n",
    "    sparql.setReturnFormat(JSON)\n",
    "    result1 = sparql.query().convert()\n",
    "    print(queryString)\n",
    "    if (len(result1[\"results\"][\"bindings\"])) == 0:\n",
    "        print(\"No match\" + '\\n')\n",
    "    for result in result1[\"results\"][\"bindings\"]:\n",
    "        print(result[\"personLabel\"][\"value\"])\n",
    "        print(result[\"person\"][\"value\"] + '\\n')\n",
    "                "
   ]
  },
  {
   "cell_type": "markdown",
   "metadata": {},
   "source": [
    "This looks fine, but notice how newlines (`\\n`) had to be hand entered to make the output legible? This would make it hard to work with if you had hundreds of things to reconcile. So let's make this into a data frame with `pandas`. "
   ]
  },
  {
   "cell_type": "code",
   "execution_count": 13,
   "metadata": {
    "collapsed": false
   },
   "outputs": [
    {
     "data": {
      "text/html": [
       "<div>\n",
       "<table border=\"1\" class=\"dataframe\">\n",
       "  <thead>\n",
       "    <tr style=\"text-align: right;\">\n",
       "      <th></th>\n",
       "      <th>Wikidata_URI</th>\n",
       "      <th>name</th>\n",
       "    </tr>\n",
       "  </thead>\n",
       "  <tbody>\n",
       "    <tr>\n",
       "      <th>0</th>\n",
       "      <td>http://www.wikidata.org/entity/Q76</td>\n",
       "      <td>Barack Obama</td>\n",
       "    </tr>\n",
       "    <tr>\n",
       "      <th>1</th>\n",
       "      <td>http://www.wikidata.org/entity/Q1609351</td>\n",
       "      <td>Herbert York</td>\n",
       "    </tr>\n",
       "    <tr>\n",
       "      <th>2</th>\n",
       "      <td>http://www.wikidata.org/entity/Q4829518</td>\n",
       "      <td>Avrum Stroll</td>\n",
       "    </tr>\n",
       "    <tr>\n",
       "      <th>3</th>\n",
       "      <td>http://www.wikidata.org/entity/Q942808</td>\n",
       "      <td>Roger Revelle</td>\n",
       "    </tr>\n",
       "  </tbody>\n",
       "</table>\n",
       "</div>"
      ],
      "text/plain": [
       "                              Wikidata_URI           name\n",
       "0       http://www.wikidata.org/entity/Q76   Barack Obama\n",
       "1  http://www.wikidata.org/entity/Q1609351   Herbert York\n",
       "2  http://www.wikidata.org/entity/Q4829518   Avrum Stroll\n",
       "3   http://www.wikidata.org/entity/Q942808  Roger Revelle"
      ]
     },
     "execution_count": 13,
     "metadata": {},
     "output_type": "execute_result"
    }
   ],
   "source": [
    "import pandas as pd\n",
    "\n",
    "importantPeople = []\n",
    "for f in viaf_id:\n",
    "    queryString = 'SELECT ?person ?personLabel WHERE { ?person wdt:P214 \"' + f + '\" SERVICE wikibase:label { bd:serviceParam wikibase:language \"en\" }}'\n",
    "    sparql.setQuery(queryString)\n",
    "    sparql.setReturnFormat(JSON)\n",
    "    result1 = sparql.query().convert()\n",
    "    for result in result1[\"results\"][\"bindings\"]:\n",
    "        importantPeople.append({\n",
    "                'Wikidata_URI': result[\"person\"][\"value\"],            \n",
    "                'name': result[\"personLabel\"][\"value\"]\n",
    "            })\n",
    "df = pd.DataFrame(importantPeople)\n",
    "df.head()"
   ]
  },
  {
   "cell_type": "markdown",
   "metadata": {},
   "source": [
    "## Iterating over a file \n",
    "\n",
    "Now instead of a list of VIAF IDs, let's introduce a more realistic scenario: I have a delimited file (csv,Excel, etc.) with a column of hundreds or even thousands of VIAF IDs. Some VIAD ID cells will be null, as the initial reconciliation process did not have a 100% reconciliation result. One way we could do this is to just treat this new file as a dataframe"
   ]
  },
  {
   "cell_type": "markdown",
   "metadata": {},
   "source": [
    "Let's first check out and get some help on the `pandas` method `read_csv`: "
   ]
  },
  {
   "cell_type": "code",
   "execution_count": 5,
   "metadata": {
    "collapsed": false
   },
   "outputs": [
    {
     "name": "stdout",
     "output_type": "stream",
     "text": [
      "Help on function read_csv in module pandas.io.parsers:\n",
      "\n",
      "read_csv(filepath_or_buffer, sep=',', delimiter=None, header='infer', names=None, index_col=None, usecols=None, squeeze=False, prefix=None, mangle_dupe_cols=True, dtype=None, engine=None, converters=None, true_values=None, false_values=None, skipinitialspace=False, skiprows=None, skipfooter=None, nrows=None, na_values=None, keep_default_na=True, na_filter=True, verbose=False, skip_blank_lines=True, parse_dates=False, infer_datetime_format=False, keep_date_col=False, date_parser=None, dayfirst=False, iterator=False, chunksize=None, compression='infer', thousands=None, decimal=b'.', lineterminator=None, quotechar='\"', quoting=0, escapechar=None, comment=None, encoding=None, dialect=None, tupleize_cols=False, error_bad_lines=True, warn_bad_lines=True, skip_footer=0, doublequote=True, delim_whitespace=False, as_recarray=False, compact_ints=False, use_unsigned=False, low_memory=True, buffer_lines=None, memory_map=False, float_precision=None)\n",
      "    Read CSV (comma-separated) file into DataFrame\n",
      "    \n",
      "    Also supports optionally iterating or breaking of the file\n",
      "    into chunks.\n",
      "    \n",
      "    Additional help can be found in the `online docs for IO Tools\n",
      "    <http://pandas.pydata.org/pandas-docs/stable/io.html>`_.\n",
      "    \n",
      "    Parameters\n",
      "    ----------\n",
      "    filepath_or_buffer : str, pathlib.Path, py._path.local.LocalPath or any object with a read() method (such as a file handle or StringIO)\n",
      "        The string could be a URL. Valid URL schemes include http, ftp, s3, and\n",
      "        file. For file URLs, a host is expected. For instance, a local file could\n",
      "        be file ://localhost/path/to/table.csv\n",
      "    sep : str, default ','\n",
      "        Delimiter to use. If sep is None, will try to automatically determine\n",
      "        this. Separators longer than 1 character and different from '\\s+' will be\n",
      "        interpreted as regular expressions, will force use of the python parsing\n",
      "        engine and will ignore quotes in the data. Regex example: '\\r\\t'\n",
      "    delimiter : str, default ``None``\n",
      "        Alternative argument name for sep.\n",
      "    delim_whitespace : boolean, default False\n",
      "        Specifies whether or not whitespace (e.g. ``' '`` or ``'    '``) will be\n",
      "        used as the sep. Equivalent to setting ``sep='\\+s'``. If this option\n",
      "        is set to True, nothing should be passed in for the ``delimiter``\n",
      "        parameter.\n",
      "    \n",
      "        .. versionadded:: 0.18.1 support for the Python parser.\n",
      "    \n",
      "    header : int or list of ints, default 'infer'\n",
      "        Row number(s) to use as the column names, and the start of the data.\n",
      "        Default behavior is as if set to 0 if no ``names`` passed, otherwise\n",
      "        ``None``. Explicitly pass ``header=0`` to be able to replace existing\n",
      "        names. The header can be a list of integers that specify row locations for\n",
      "        a multi-index on the columns e.g. [0,1,3]. Intervening rows that are not\n",
      "        specified will be skipped (e.g. 2 in this example is skipped). Note that\n",
      "        this parameter ignores commented lines and empty lines if\n",
      "        ``skip_blank_lines=True``, so header=0 denotes the first line of data\n",
      "        rather than the first line of the file.\n",
      "    names : array-like, default None\n",
      "        List of column names to use. If file contains no header row, then you\n",
      "        should explicitly pass header=None\n",
      "    index_col : int or sequence or False, default None\n",
      "        Column to use as the row labels of the DataFrame. If a sequence is given, a\n",
      "        MultiIndex is used. If you have a malformed file with delimiters at the end\n",
      "        of each line, you might consider index_col=False to force pandas to _not_\n",
      "        use the first column as the index (row names)\n",
      "    usecols : array-like, default None\n",
      "        Return a subset of the columns. All elements in this array must either\n",
      "        be positional (i.e. integer indices into the document columns) or strings\n",
      "        that correspond to column names provided either by the user in `names` or\n",
      "        inferred from the document header row(s). For example, a valid `usecols`\n",
      "        parameter would be [0, 1, 2] or ['foo', 'bar', 'baz']. Using this parameter\n",
      "        results in much faster parsing time and lower memory usage.\n",
      "    squeeze : boolean, default False\n",
      "        If the parsed data only contains one column then return a Series\n",
      "    prefix : str, default None\n",
      "        Prefix to add to column numbers when no header, e.g. 'X' for X0, X1, ...\n",
      "    mangle_dupe_cols : boolean, default True\n",
      "        Duplicate columns will be specified as 'X.0'...'X.N', rather than 'X'...'X'\n",
      "    dtype : Type name or dict of column -> type, default None\n",
      "        Data type for data or columns. E.g. {'a': np.float64, 'b': np.int32}\n",
      "        (Unsupported with engine='python'). Use `str` or `object` to preserve and\n",
      "        not interpret dtype.\n",
      "    engine : {'c', 'python'}, optional\n",
      "        Parser engine to use. The C engine is faster while the python engine is\n",
      "        currently more feature-complete.\n",
      "    converters : dict, default None\n",
      "        Dict of functions for converting values in certain columns. Keys can either\n",
      "        be integers or column labels\n",
      "    true_values : list, default None\n",
      "        Values to consider as True\n",
      "    false_values : list, default None\n",
      "        Values to consider as False\n",
      "    skipinitialspace : boolean, default False\n",
      "        Skip spaces after delimiter.\n",
      "    skiprows : list-like or integer, default None\n",
      "        Line numbers to skip (0-indexed) or number of lines to skip (int)\n",
      "        at the start of the file\n",
      "    skipfooter : int, default 0\n",
      "        Number of lines at bottom of file to skip (Unsupported with engine='c')\n",
      "    nrows : int, default None\n",
      "        Number of rows of file to read. Useful for reading pieces of large files\n",
      "    na_values : str or list-like or dict, default None\n",
      "        Additional strings to recognize as NA/NaN. If dict passed, specific\n",
      "        per-column NA values.  By default the following values are interpreted as\n",
      "        NaN: `''`, `'#N/A'`, `'#N/A N/A'`, `'#NA'`, `'-1.#IND'`, `'-1.#QNAN'`, `'-NaN'`, `'-nan'`, `'1.#IND'`, `'1.#QNAN'`, `'N/A'`, `'NA'`, `'NULL'`, `'NaN'`, `'nan'`.\n",
      "    keep_default_na : bool, default True\n",
      "        If na_values are specified and keep_default_na is False the default NaN\n",
      "        values are overridden, otherwise they're appended to.\n",
      "    na_filter : boolean, default True\n",
      "        Detect missing value markers (empty strings and the value of na_values). In\n",
      "        data without any NAs, passing na_filter=False can improve the performance\n",
      "        of reading a large file\n",
      "    verbose : boolean, default False\n",
      "        Indicate number of NA values placed in non-numeric columns\n",
      "    skip_blank_lines : boolean, default True\n",
      "        If True, skip over blank lines rather than interpreting as NaN values\n",
      "    parse_dates : boolean or list of ints or names or list of lists or dict, default False\n",
      "    \n",
      "        * boolean. If True -> try parsing the index.\n",
      "        * list of ints or names. e.g. If [1, 2, 3] -> try parsing columns 1, 2, 3\n",
      "          each as a separate date column.\n",
      "        * list of lists. e.g.  If [[1, 3]] -> combine columns 1 and 3 and parse as\n",
      "            a single date column.\n",
      "        * dict, e.g. {'foo' : [1, 3]} -> parse columns 1, 3 as date and call result\n",
      "          'foo'\n",
      "    \n",
      "        Note: A fast-path exists for iso8601-formatted dates.\n",
      "    infer_datetime_format : boolean, default False\n",
      "        If True and parse_dates is enabled, pandas will attempt to infer the format\n",
      "        of the datetime strings in the columns, and if it can be inferred, switch\n",
      "        to a faster method of parsing them. In some cases this can increase the\n",
      "        parsing speed by ~5-10x.\n",
      "    keep_date_col : boolean, default False\n",
      "        If True and parse_dates specifies combining multiple columns then\n",
      "        keep the original columns.\n",
      "    date_parser : function, default None\n",
      "        Function to use for converting a sequence of string columns to an array of\n",
      "        datetime instances. The default uses ``dateutil.parser.parser`` to do the\n",
      "        conversion. Pandas will try to call date_parser in three different ways,\n",
      "        advancing to the next if an exception occurs: 1) Pass one or more arrays\n",
      "        (as defined by parse_dates) as arguments; 2) concatenate (row-wise) the\n",
      "        string values from the columns defined by parse_dates into a single array\n",
      "        and pass that; and 3) call date_parser once for each row using one or more\n",
      "        strings (corresponding to the columns defined by parse_dates) as arguments.\n",
      "    dayfirst : boolean, default False\n",
      "        DD/MM format dates, international and European format\n",
      "    iterator : boolean, default False\n",
      "        Return TextFileReader object for iteration or getting chunks with\n",
      "        ``get_chunk()``.\n",
      "    chunksize : int, default None\n",
      "        Return TextFileReader object for iteration. `See IO Tools docs for more\n",
      "        information\n",
      "        <http://pandas.pydata.org/pandas-docs/stable/io.html#io-chunking>`_ on\n",
      "        ``iterator`` and ``chunksize``.\n",
      "    compression : {'infer', 'gzip', 'bz2', 'zip', 'xz', None}, default 'infer'\n",
      "        For on-the-fly decompression of on-disk data. If 'infer', then use gzip,\n",
      "        bz2, zip or xz if filepath_or_buffer is a string ending in '.gz', '.bz2',\n",
      "        '.zip', or 'xz', respectively, and no decompression otherwise. If using\n",
      "        'zip', the ZIP file must contain only one data file to be read in.\n",
      "        Set to None for no decompression.\n",
      "    \n",
      "        .. versionadded:: 0.18.1 support for 'zip' and 'xz' compression.\n",
      "    \n",
      "    thousands : str, default None\n",
      "        Thousands separator\n",
      "    decimal : str, default '.'\n",
      "        Character to recognize as decimal point (e.g. use ',' for European data).\n",
      "    lineterminator : str (length 1), default None\n",
      "        Character to break file into lines. Only valid with C parser.\n",
      "    quotechar : str (length 1), optional\n",
      "        The character used to denote the start and end of a quoted item. Quoted\n",
      "        items can include the delimiter and it will be ignored.\n",
      "    quoting : int or csv.QUOTE_* instance, default None\n",
      "        Control field quoting behavior per ``csv.QUOTE_*`` constants. Use one of\n",
      "        QUOTE_MINIMAL (0), QUOTE_ALL (1), QUOTE_NONNUMERIC (2) or QUOTE_NONE (3).\n",
      "        Default (None) results in QUOTE_MINIMAL behavior.\n",
      "    escapechar : str (length 1), default None\n",
      "        One-character string used to escape delimiter when quoting is QUOTE_NONE.\n",
      "    comment : str, default None\n",
      "        Indicates remainder of line should not be parsed. If found at the beginning\n",
      "        of a line, the line will be ignored altogether. This parameter must be a\n",
      "        single character. Like empty lines (as long as ``skip_blank_lines=True``),\n",
      "        fully commented lines are ignored by the parameter `header` but not by\n",
      "        `skiprows`. For example, if comment='#', parsing '#empty\\na,b,c\\n1,2,3'\n",
      "        with `header=0` will result in 'a,b,c' being\n",
      "        treated as the header.\n",
      "    encoding : str, default None\n",
      "        Encoding to use for UTF when reading/writing (ex. 'utf-8'). `List of Python\n",
      "        standard encodings\n",
      "        <https://docs.python.org/3/library/codecs.html#standard-encodings>`_\n",
      "    dialect : str or csv.Dialect instance, default None\n",
      "        If None defaults to Excel dialect. Ignored if sep longer than 1 char\n",
      "        See csv.Dialect documentation for more details\n",
      "    tupleize_cols : boolean, default False\n",
      "        Leave a list of tuples on columns as is (default is to convert to\n",
      "        a Multi Index on the columns)\n",
      "    error_bad_lines : boolean, default True\n",
      "        Lines with too many fields (e.g. a csv line with too many commas) will by\n",
      "        default cause an exception to be raised, and no DataFrame will be returned.\n",
      "        If False, then these \"bad lines\" will dropped from the DataFrame that is\n",
      "        returned. (Only valid with C parser)\n",
      "    warn_bad_lines : boolean, default True\n",
      "        If error_bad_lines is False, and warn_bad_lines is True, a warning for each\n",
      "        \"bad line\" will be output. (Only valid with C parser).\n",
      "    \n",
      "    Returns\n",
      "    -------\n",
      "    result : DataFrame or TextParser\n",
      "\n"
     ]
    }
   ],
   "source": [
    "help(pd.read_csv)"
   ]
  },
  {
   "cell_type": "code",
   "execution_count": 7,
   "metadata": {
    "collapsed": false
   },
   "outputs": [
    {
     "data": {
      "text/html": [
       "<div>\n",
       "<table border=\"1\" class=\"dataframe\">\n",
       "  <thead>\n",
       "    <tr style=\"text-align: right;\">\n",
       "      <th></th>\n",
       "      <th>AuthoritativeLabel</th>\n",
       "      <th>VIAF_ID</th>\n",
       "      <th>VIAF_URIs</th>\n",
       "      <th>Wikipedia_URLs</th>\n",
       "      <th>Wikidata_IDs</th>\n",
       "    </tr>\n",
       "  </thead>\n",
       "  <tbody>\n",
       "    <tr>\n",
       "      <th>0</th>\n",
       "      <td>UC Regents</td>\n",
       "      <td>NaN</td>\n",
       "      <td>NaN</td>\n",
       "      <td>NaN</td>\n",
       "      <td>NaN</td>\n",
       "    </tr>\n",
       "    <tr>\n",
       "      <th>1</th>\n",
       "      <td>Herbert F. York</td>\n",
       "      <td>34562701</td>\n",
       "      <td>https://viaf.org/viaf/34562701</td>\n",
       "      <td>https://en.wikipedia.org/wiki/Herbert_York</td>\n",
       "      <td>[\"Q1609351\"]</td>\n",
       "    </tr>\n",
       "    <tr>\n",
       "      <th>2</th>\n",
       "      <td>Andrew H. Wright</td>\n",
       "      <td>108815043</td>\n",
       "      <td>https://viaf.org/viaf/108815043</td>\n",
       "      <td>NaN</td>\n",
       "      <td>NaN</td>\n",
       "    </tr>\n",
       "    <tr>\n",
       "      <th>3</th>\n",
       "      <td>Stanley Chodorow</td>\n",
       "      <td>2487523</td>\n",
       "      <td>https://viaf.org/viaf/2487523</td>\n",
       "      <td>NaN</td>\n",
       "      <td>NaN</td>\n",
       "    </tr>\n",
       "    <tr>\n",
       "      <th>4</th>\n",
       "      <td>Melvin J. Voight</td>\n",
       "      <td>NaN</td>\n",
       "      <td>NaN</td>\n",
       "      <td>NaN</td>\n",
       "      <td>NaN</td>\n",
       "    </tr>\n",
       "    <tr>\n",
       "      <th>5</th>\n",
       "      <td>World Series (Baseball)</td>\n",
       "      <td>135197943</td>\n",
       "      <td>https://viaf.org/viaf/135197943</td>\n",
       "      <td>NaN</td>\n",
       "      <td>NaN</td>\n",
       "    </tr>\n",
       "    <tr>\n",
       "      <th>6</th>\n",
       "      <td>Hans Seuss</td>\n",
       "      <td>NaN</td>\n",
       "      <td>NaN</td>\n",
       "      <td>NaN</td>\n",
       "      <td>NaN</td>\n",
       "    </tr>\n",
       "    <tr>\n",
       "      <th>7</th>\n",
       "      <td>Karen Fleckenstein</td>\n",
       "      <td>NaN</td>\n",
       "      <td>NaN</td>\n",
       "      <td>NaN</td>\n",
       "      <td>NaN</td>\n",
       "    </tr>\n",
       "    <tr>\n",
       "      <th>8</th>\n",
       "      <td>Leonard Newmark</td>\n",
       "      <td>92278621</td>\n",
       "      <td>https://viaf.org/viaf/92278621</td>\n",
       "      <td>NaN</td>\n",
       "      <td>NaN</td>\n",
       "    </tr>\n",
       "  </tbody>\n",
       "</table>\n",
       "</div>"
      ],
      "text/plain": [
       "        AuthoritativeLabel    VIAF_ID                        VIAF_URIs  \\\n",
       "0               UC Regents        NaN                              NaN   \n",
       "1          Herbert F. York   34562701   https://viaf.org/viaf/34562701   \n",
       "2         Andrew H. Wright  108815043  https://viaf.org/viaf/108815043   \n",
       "3         Stanley Chodorow    2487523    https://viaf.org/viaf/2487523   \n",
       "4         Melvin J. Voight        NaN                              NaN   \n",
       "5  World Series (Baseball)  135197943  https://viaf.org/viaf/135197943   \n",
       "6               Hans Seuss        NaN                              NaN   \n",
       "7       Karen Fleckenstein        NaN                              NaN   \n",
       "8          Leonard Newmark   92278621   https://viaf.org/viaf/92278621   \n",
       "\n",
       "                               Wikipedia_URLs  Wikidata_IDs  \n",
       "0                                         NaN           NaN  \n",
       "1  https://en.wikipedia.org/wiki/Herbert_York  [\"Q1609351\"]  \n",
       "2                                         NaN           NaN  \n",
       "3                                         NaN           NaN  \n",
       "4                                         NaN           NaN  \n",
       "5                                         NaN           NaN  \n",
       "6                                         NaN           NaN  \n",
       "7                                         NaN           NaN  \n",
       "8                                         NaN           NaN  "
      ]
     },
     "execution_count": 7,
     "metadata": {},
     "output_type": "execute_result"
    }
   ],
   "source": [
    "viaf_data = 'name_viaf-refine_test.csv'\n",
    "df1 = pd.read_csv(viaf_data)\n",
    "\n",
    "df1[0:9]"
   ]
  },
  {
   "cell_type": "code",
   "execution_count": 10,
   "metadata": {
    "collapsed": false
   },
   "outputs": [
    {
     "name": "stdout",
     "output_type": "stream",
     "text": [
      "[nan, '34562701', '108815043', '2487523', nan, '135197943', nan, nan, '92278621', '76323201', nan, '255131945', '27196759', nan, '109530985', nan, '19741752', '245102411', '108378457', '46822320', '235002633', '56672226', '79069733', '44392158', '65331054', '54248007', '45569200', nan, nan, '306193935', '108307703', '94796277', '217920960', '46792221', nan, '55588240', '170016300', '72308491', nan, '27377965', '24685271', '165136992', '117991221', '11963854', '167627219', nan, '65508148', '21443041', nan, nan, nan, '7435849', '33442970', nan, nan, '69008505', '94432205', nan, '229484529', '34777159', '21106583', '192987647', '94924486', nan, '19755215', '234553964', '43586494', '32074777', '119197886', '111308881', '120471026', '26073878', nan, '111883', '47485057', '4075624', '11446679', '8990643', nan, '229956275', nan, '109270251', '101088057', '54237564', '56504103', '51035951', '56709009', '50746062', '161945656', '1384145857091522921764', '299239150', '11336329', '75175060', '109428610', nan, '305210496', '17318209', '46228725', '135197943', '100627125', '22324809', '158489853', '129095018', '138700447', '267346615', '154835324', nan, '142252642', nan, '264574527', nan, nan, '154909592', '157080647', nan, '125503694', nan]\n"
     ]
    }
   ],
   "source": [
    "viaf_ids = df1['VIAF_ID'].tolist()\n",
    "print(viaf_ids)"
   ]
  },
  {
   "cell_type": "code",
   "execution_count": null,
   "metadata": {
    "collapsed": true
   },
   "outputs": [],
   "source": []
  }
 ],
 "metadata": {
  "anaconda-cloud": {},
  "kernelspec": {
   "display_name": "Python [Root]",
   "language": "python",
   "name": "Python [Root]"
  },
  "language_info": {
   "codemirror_mode": {
    "name": "ipython",
    "version": 3
   },
   "file_extension": ".py",
   "mimetype": "text/x-python",
   "name": "python",
   "nbconvert_exporter": "python",
   "pygments_lexer": "ipython3",
   "version": "3.5.2"
  }
 },
 "nbformat": 4,
 "nbformat_minor": 0
}
